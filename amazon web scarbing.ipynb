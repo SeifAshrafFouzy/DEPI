{
 "cells": [
  {
   "cell_type": "code",
   "execution_count": 1,
   "metadata": {},
   "outputs": [
    {
     "name": "stdout",
     "output_type": "stream",
     "text": [
      "Libraries imported successfully!\n"
     ]
    }
   ],
   "source": [
    "# Import required libraries\n",
    "from bs4 import BeautifulSoup\n",
    "from selenium import webdriver\n",
    "from selenium.webdriver.common.keys import Keys\n",
    "from selenium.webdriver.support.ui import WebDriverWait\n",
    "from selenium.webdriver.chrome.service import Service\n",
    "import pandas as pd\n",
    "import regex as re\n",
    "import numpy as np\n",
    "import requests\n",
    "import string\n",
    "import time\n",
    "\n",
    "# Confirm successful imports\n",
    "print(\"Libraries imported successfully!\")\n"
   ]
  },
  {
   "cell_type": "code",
   "execution_count": 2,
   "metadata": {},
   "outputs": [
    {
     "name": "stderr",
     "output_type": "stream",
     "text": [
      "<>:12: SyntaxWarning: invalid escape sequence '\\G'\n",
      "<>:12: SyntaxWarning: invalid escape sequence '\\G'\n",
      "C:\\Users\\Seif\\AppData\\Local\\Temp\\ipykernel_20836\\1587277852.py:12: SyntaxWarning: invalid escape sequence '\\G'\n",
      "  service = Service(\"D:\\Games\\chromedriver-win64\\chromedriver-win64\\chromedriver.exe\")  # Update with your ChromeDriver path\n"
     ]
    },
    {
     "name": "stdout",
     "output_type": "stream",
     "text": [
      "Selenium WebDriver set up successfully!\n"
     ]
    }
   ],
   "source": [
    "# Set up Selenium Chrome Driver\n",
    "from selenium.webdriver.chrome.options import Options\n",
    "\n",
    "# Configure Chrome options\n",
    "options = Options()\n",
    "options.add_argument(\"--headless\")  # Run in headless mode\n",
    "options.add_argument(\"--disable-gpu\")  # Disable GPU acceleration\n",
    "options.add_argument(\"--no-sandbox\")  # Avoid sandboxing issues\n",
    "options.add_argument(\"--start-maximized\")\n",
    "\n",
    "# Provide the path to your chromedriver executable\n",
    "service = Service(\"D:\\Games\\chromedriver-win64\\chromedriver-win64\\chromedriver.exe\")  # Update with your ChromeDriver path\n",
    "driver = webdriver.Chrome(service=service, options=options)\n",
    "\n",
    "# Confirm Selenium driver setup\n",
    "print(\"Selenium WebDriver set up successfully!\")\n"
   ]
  },
  {
   "cell_type": "code",
   "execution_count": 4,
   "metadata": {},
   "outputs": [
    {
     "name": "stdout",
     "output_type": "stream",
     "text": [
      "Scraping functions defined successfully!\n"
     ]
    }
   ],
   "source": [
    "# Function to extract Product Title\n",
    "def get_title(soup):\n",
    "    try:\n",
    "        title = soup.find(\"span\", attrs={\"id\": \"productTitle\"}).text.strip()\n",
    "    except AttributeError:\n",
    "        title = \"\"\n",
    "    return title\n",
    "\n",
    "# Function to extract Product Price\n",
    "def get_price(soup):\n",
    "    try:\n",
    "        price = soup.find(\"span\", attrs={\"class\": \"a-price-whole\"}).text.strip()\n",
    "        fraction = soup.find(\"span\", attrs={\"class\": \"a-price-fraction\"})\n",
    "        if fraction:\n",
    "            price += fraction.text.strip()\n",
    "    except AttributeError:\n",
    "        price = \"\"\n",
    "    return price\n",
    "\n",
    "# Function to extract Product Rating\n",
    "def get_rating(soup):\n",
    "    try:\n",
    "        rating = soup.find(\"span\", attrs={\"class\": \"a-icon-alt\"}).text.strip()\n",
    "    except AttributeError:\n",
    "        rating = \"\"\n",
    "    return rating\n",
    "\n",
    "# Function to extract Number of Reviews\n",
    "def get_review_count(soup):\n",
    "    try:\n",
    "        reviews = soup.find(\"span\", attrs={\"id\": \"acrCustomerReviewText\"}).text.strip()\n",
    "    except AttributeError:\n",
    "        reviews = \"\"\n",
    "    return reviews\n",
    "\n",
    "# Function to extract Availability Status\n",
    "def get_availability(soup):\n",
    "    try:\n",
    "        availability = soup.find(\"div\", attrs={\"id\": \"availability\"}).find(\"span\").text.strip()\n",
    "    except AttributeError:\n",
    "        availability = \"Not Available\"\n",
    "    return availability\n",
    "\n",
    "print(\"Scraping functions defined successfully!\")\n"
   ]
  },
  {
   "cell_type": "code",
   "execution_count": 5,
   "metadata": {},
   "outputs": [
    {
     "name": "stdout",
     "output_type": "stream",
     "text": [
      "Found 20 product links.\n"
     ]
    }
   ],
   "source": [
    "# Set up headers to mimic a browser\n",
    "HEADERS = {\n",
    "    \"User-Agent\": \"Mozilla/5.0 (Windows NT 10.0; Win64; x64) AppleWebKit/537.36 (KHTML, like Gecko) Chrome/111.0.0.0 Safari/537.36\",\n",
    "    \"Accept-Language\": \"en-US,en;q=0.9\",\n",
    "}\n",
    "\n",
    "# Amazon search URL\n",
    "search_query = \"playstation 4\"\n",
    "URL = f\"https://www.amazon.com/s?k={search_query.replace(' ', '+')}\"\n",
    "\n",
    "# Use Selenium to load the page\n",
    "driver.get(URL)\n",
    "time.sleep(3)  # Wait for the page to load\n",
    "\n",
    "# Extract HTML content and parse with BeautifulSoup\n",
    "html_content = driver.page_source\n",
    "soup = BeautifulSoup(html_content, \"html.parser\")\n",
    "\n",
    "# Find product links\n",
    "product_links = soup.find_all(\"a\", attrs={\"class\": \"a-link-normal s-no-outline\"})\n",
    "links_list = [\"https://www.amazon.com\" + link[\"href\"] for link in product_links]\n",
    "\n",
    "print(f\"Found {len(links_list)} product links.\")\n"
   ]
  },
  {
   "cell_type": "code",
   "execution_count": 6,
   "metadata": {},
   "outputs": [
    {
     "name": "stdout",
     "output_type": "stream",
     "text": [
      "Product details extracted successfully!\n"
     ]
    }
   ],
   "source": [
    "# Initialize a dictionary to store product details\n",
    "data = {\"title\": [], \"price\": [], \"rating\": [], \"reviews\": [], \"availability\": []}\n",
    "\n",
    "# Loop through product links to extract details\n",
    "for link in links_list[:10]:  # Limit to 10 products for testing\n",
    "    driver.get(link)\n",
    "    time.sleep(2)  # Wait for the page to load\n",
    "    product_soup = BeautifulSoup(driver.page_source, \"html.parser\")\n",
    "    \n",
    "    # Collect product details\n",
    "    data[\"title\"].append(get_title(product_soup))\n",
    "    data[\"price\"].append(get_price(product_soup))\n",
    "    data[\"rating\"].append(get_rating(product_soup))\n",
    "    data[\"reviews\"].append(get_review_count(product_soup))\n",
    "    data[\"availability\"].append(get_availability(product_soup))\n",
    "\n",
    "print(\"Product details extracted successfully!\")\n"
   ]
  },
  {
   "cell_type": "code",
   "execution_count": 6,
   "metadata": {},
   "outputs": [
    {
     "name": "stdout",
     "output_type": "stream",
     "text": [
      "                                               title   price  \\\n",
      "0             Sony Playstation PS4 1TB Black Console  200.00   \n",
      "1  PlayStation®4 Console – Call of Duty® Modern W...  379.90   \n",
      "2  Playstation Sony 4, 500GB Slim System [CUH-221...  189.99   \n",
      "3  PlayStation 4 Slim 1TB Console - Marvel's Spid...  200.00   \n",
      "4                     PlayStation 4 Slim 1TB Console  369.99   \n",
      "5                     PlayStation 4 Slim 1TB Console  249.99   \n",
      "6  PlayStation 4 500GB Console - Call of Duty Bla...  180.00   \n",
      "7  PlayStation 4 Slim 500GB Console - Uncharted 4...  243.99   \n",
      "8  Sony PlayStation 4 Pro 1TB Console - Black (PS...  200.00   \n",
      "9    PlayStation 4 Slim 500GB Console [Discontinued]  156.70   \n",
      "\n",
      "               rating         reviews                         availability  \n",
      "0  4.6 out of 5 stars   1,570 ratings   Only 1 left in stock - order soon.  \n",
      "1  4.5 out of 5 stars     121 ratings                             In Stock  \n",
      "2  4.3 out of 5 stars     374 ratings   Only 8 left in stock - order soon.  \n",
      "3  4.6 out of 5 stars   2,820 ratings   Only 1 left in stock - order soon.  \n",
      "4  4.7 out of 5 stars  15,740 ratings                                  NaN  \n",
      "5  4.2 out of 5 stars     312 ratings                                  NaN  \n",
      "6  4.6 out of 5 stars   2,005 ratings   Only 1 left in stock - order soon.  \n",
      "7  4.8 out of 5 stars   6,501 ratings  Only 11 left in stock - order soon.  \n",
      "8  4.4 out of 5 stars   4,136 ratings   Only 1 left in stock - order soon.  \n",
      "9  4.5 out of 5 stars   1,912 ratings   Only 1 left in stock - order soon.  \n"
     ]
    }
   ],
   "source": [
    "# Convert the data dictionary to a Pandas DataFrame\n",
    "amazon_df = pd.DataFrame(data)\n",
    "\n",
    "# Replace empty strings with NaN and drop rows with missing titles\n",
    "amazon_df.replace(\"\", np.nan, inplace=True)\n",
    "amazon_df.dropna(subset=[\"title\"], inplace=True)\n",
    "\n",
    "# Save the data to a CSV file\n",
    "amazon_df.to_csv(\"amazon_products.csv\", index=False)\n",
    "\n",
    "# Display the DataFrame\n",
    "print(amazon_df)\n"
   ]
  },
  {
   "cell_type": "code",
   "execution_count": 7,
   "metadata": {},
   "outputs": [
    {
     "name": "stdout",
     "output_type": "stream",
     "text": [
      "Selenium WebDriver session closed!\n"
     ]
    }
   ],
   "source": [
    "# Close the browser session\n",
    "driver.quit()\n",
    "print(\"Selenium WebDriver session closed!\")\n"
   ]
  }
 ],
 "metadata": {
  "kernelspec": {
   "display_name": "Python 3",
   "language": "python",
   "name": "python3"
  },
  "language_info": {
   "codemirror_mode": {
    "name": "ipython",
    "version": 3
   },
   "file_extension": ".py",
   "mimetype": "text/x-python",
   "name": "python",
   "nbconvert_exporter": "python",
   "pygments_lexer": "ipython3",
   "version": "3.13.0"
  }
 },
 "nbformat": 4,
 "nbformat_minor": 2
}
