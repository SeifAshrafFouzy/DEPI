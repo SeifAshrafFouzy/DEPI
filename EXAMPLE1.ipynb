{
 "cells": [
  {
   "cell_type": "code",
   "execution_count": 8,
   "metadata": {},
   "outputs": [],
   "source": [
    "import sqlite3\n",
    "\n",
    "\n"
   ]
  },
  {
   "cell_type": "code",
   "execution_count": 9,
   "metadata": {},
   "outputs": [],
   "source": [
    "# Create connection\n",
    "conn = sqlite3.connect('school.db')\n",
    "cursor = conn.cursor()\n"
   ]
  },
  {
   "cell_type": "code",
   "execution_count": 11,
   "metadata": {},
   "outputs": [
    {
     "data": {
      "text/plain": [
       "<sqlite3.Cursor at 0x2a8108f9e40>"
      ]
     },
     "execution_count": 11,
     "metadata": {},
     "output_type": "execute_result"
    }
   ],
   "source": [
    "# Create tables\n",
    "cursor.execute('''CREATE TABLE IF NOT EXISTS students (\n",
    "    id INTEGER PRIMARY KEY AUTOINCREMENT,\n",
    "    name TEXT,\n",
    "    age INTEGER,\n",
    "    gender TEXT\n",
    ")''')\n",
    "\n",
    "cursor.execute('''CREATE TABLE IF NOT EXISTS courses (\n",
    "    id INTEGER PRIMARY KEY AUTOINCREMENT,\n",
    "    name TEXT,\n",
    "    credits INTEGER\n",
    ")''')\n",
    "\n",
    "cursor.execute('''CREATE TABLE IF NOT EXISTS enrollments (\n",
    "    id INTEGER PRIMARY KEY AUTOINCREMENT,\n",
    "    student_id INTEGER,\n",
    "    course_id INTEGER,\n",
    "    grade REAL,\n",
    "    FOREIGN KEY(student_id) REFERENCES students(id),\n",
    "    FOREIGN KEY(course_id) REFERENCES courses(id)\n",
    ")''')\n"
   ]
  },
  {
   "cell_type": "code",
   "execution_count": null,
   "metadata": {},
   "outputs": [],
   "source": [
    "# Insert sample data\n",
    "\n",
    "cursor.executemany('INSERT INTO students (name, age, gender) VALUES (?, ?, ?)', [\n",
    "\n",
    "('Alice', 22, 'F'),\n",
    "\n",
    "('Bob', 20, 'M'),\n",
    "\n",
    "('Charlie', 23, 'M')\n",
    "\n",
    "])\n",
    "\n",
    "\n",
    "cursor.executemany('INSERT INTO courses (name, credits) VALUES (?, ?)', [\n",
    "\n",
    "('Math', 3),\n",
    "\n",
    "('Science', 4),\n",
    "\n",
    "('History', 2)\n",
    "\n",
    "])\n",
    "\n",
    "\n",
    "cursor.executemany('INSERT INTO enrollments (student_id, course_id, grade) VALUES (?, ?, ?)', [\n",
    "\n",
    "(1, 1, 85),\n",
    "\n",
    "(1, 2, 90),\n",
    "\n",
    "(2, 1, 78),\n",
    "\n",
    "(3, 3, 88)\n",
    "\n",
    "])\n",
    "\n",
    "\n",
    "conn.commit()"
   ]
  },
  {
   "cell_type": "code",
   "execution_count": 13,
   "metadata": {},
   "outputs": [
    {
     "name": "stdout",
     "output_type": "stream",
     "text": [
      "[(1, 'Alice', 22, 'F'), (2, 'Bob', 20, 'M'), (3, 'Charlie', 23, 'M')]\n"
     ]
    }
   ],
   "source": [
    "cursor.execute(\"select*from students\")\n",
    "print(cursor.fetchall())"
   ]
  },
  {
   "cell_type": "code",
   "execution_count": 14,
   "metadata": {},
   "outputs": [
    {
     "data": {
      "text/plain": [
       "<sqlite3.Cursor at 0x2a8108f9e40>"
      ]
     },
     "execution_count": 14,
     "metadata": {},
     "output_type": "execute_result"
    }
   ],
   "source": [
    "cursor.execute(\"insert into students (name, age, gender) values  ('Deved',21,'M')\")"
   ]
  },
  {
   "cell_type": "code",
   "execution_count": 16,
   "metadata": {},
   "outputs": [
    {
     "name": "stdout",
     "output_type": "stream",
     "text": [
      "[(1, 'Alice', 22, 'F'), (2, 'Bob', 20, 'M'), (3, 'Charlie', 23, 'M'), (4, 'Deved', 21, 'M')]\n"
     ]
    }
   ],
   "source": [
    "cursor.execute(\"select*from students\")\n",
    "print(cursor.fetchall())\n",
    "conn.commit()"
   ]
  },
  {
   "cell_type": "code",
   "execution_count": 17,
   "metadata": {},
   "outputs": [
    {
     "name": "stdout",
     "output_type": "stream",
     "text": [
      "[(1, 'Alice', 22, 'F'), (3, 'Charlie', 23, 'M')]\n"
     ]
    }
   ],
   "source": [
    "cursor.execute(\"select *from students  where age >21\")\n",
    "print(cursor.fetchall())"
   ]
  },
  {
   "cell_type": "code",
   "execution_count": 18,
   "metadata": {},
   "outputs": [
    {
     "name": "stdout",
     "output_type": "stream",
     "text": [
      "[('Alice', 85.0), ('Alice', 90.0), ('Charlie', 88.0)]\n"
     ]
    }
   ],
   "source": [
    "cursor.execute('''SELECT s.name, e.grade\n",
    "\n",
    "FROM students s\n",
    "\n",
    "JOIN enrollments e ON s.id = e.student_id\n",
    "\n",
    "WHERE e.grade BETWEEN 80 AND 90''')\n",
    "\n",
    "print(cursor.fetchall())"
   ]
  },
  {
   "cell_type": "code",
   "execution_count": 19,
   "metadata": {},
   "outputs": [
    {
     "name": "stdout",
     "output_type": "stream",
     "text": [
      "[('Math', 3), ('Science', 4), ('History', 2)]\n"
     ]
    }
   ],
   "source": [
    "# Total credits for each course\n",
    "\n",
    "cursor.execute(\"SELECT name, credits FROM courses\")\n",
    "\n",
    "print(cursor.fetchall())"
   ]
  },
  {
   "cell_type": "code",
   "execution_count": 20,
   "metadata": {},
   "outputs": [
    {
     "name": "stdout",
     "output_type": "stream",
     "text": [
      "[(3, 'Charlie', 23, 'M'), (1, 'Alice', 22, 'F'), (4, 'Deved', 21, 'M'), (2, 'Bob', 20, 'M')]\n"
     ]
    }
   ],
   "source": [
    "# Students sorted by age descending\n",
    "\n",
    "cursor.execute(\"SELECT * FROM students ORDER BY age DESC\")\n",
    "\n",
    "print(cursor.fetchall())"
   ]
  },
  {
   "cell_type": "code",
   "execution_count": 23,
   "metadata": {},
   "outputs": [
    {
     "name": "stdout",
     "output_type": "stream",
     "text": [
      "[('Deved',)]\n"
     ]
    }
   ],
   "source": [
    "# Students not enrolled in any courses (LEFT JOIN)\n",
    "\n",
    "cursor.execute('''SELECT s.name\n",
    "\n",
    "FROM students s\n",
    "LEFT JOIN enrollments e ON s.id = e.student_id\n",
    "\n",
    "WHERE e.id IS NULL''')\n",
    "\n",
    "print(cursor.fetchall())"
   ]
  },
  {
   "cell_type": "code",
   "execution_count": 24,
   "metadata": {},
   "outputs": [
    {
     "name": "stdout",
     "output_type": "stream",
     "text": [
      "Students enrolled in Math with grades above 80: [('Alice', 85.0)]\n",
      "Students and their total number of enrolled courses: [('Alice', 2), ('Bob', 1), ('Charlie', 1), ('Deved', 0)]\n"
     ]
    }
   ],
   "source": [
    "cursor.execute('''\n",
    "SELECT students.name, enrollments.grade\n",
    "FROM students\n",
    "JOIN enrollments ON students.id = enrollments.student_id\n",
    "JOIN courses ON enrollments.course_id = courses.id\n",
    "WHERE courses.name = \"Math\" AND enrollments.grade > 80\n",
    "''')\n",
    "result_math = cursor.fetchall()\n",
    "print(\"Students enrolled in Math with grades above 80:\", result_math)\n",
    "cursor.execute('''\n",
    "SELECT students.name, COUNT(enrollments.course_id) AS total_courses\n",
    "FROM students\n",
    "LEFT JOIN enrollments ON students.id = enrollments.student_id\n",
    "GROUP BY students.id\n",
    "''')\n",
    "result_courses = cursor.fetchall()\n",
    "print(\"Students and their total number of enrolled courses:\", result_courses)\n"
   ]
  }
 ],
 "metadata": {
  "kernelspec": {
   "display_name": "Python 3",
   "language": "python",
   "name": "python3"
  },
  "language_info": {
   "codemirror_mode": {
    "name": "ipython",
    "version": 3
   },
   "file_extension": ".py",
   "mimetype": "text/x-python",
   "name": "python",
   "nbconvert_exporter": "python",
   "pygments_lexer": "ipython3",
   "version": "3.13.0"
  }
 },
 "nbformat": 4,
 "nbformat_minor": 2
}
