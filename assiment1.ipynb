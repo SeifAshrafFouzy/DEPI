{
 "cells": [
  {
   "cell_type": "markdown",
   "metadata": {},
   "source": [
    "# Python Basics Exam "
   ]
  },
  {
   "cell_type": "markdown",
   "metadata": {},
   "source": [
    "Section 1: Printing Messages \n",
    "1. Write a Python program to print the following message on the screen: \n",
    "\"Hello, Python learners! Today we start our coding journey.\" \n",
    "Challenge: Print a multi-line message using triple quotes that includes your name and \n",
    "favorite programming language. "
   ]
  },
  {
   "cell_type": "code",
   "execution_count": 2,
   "metadata": {},
   "outputs": [
    {
     "name": "stdout",
     "output_type": "stream",
     "text": [
      "Hello, Python learners! Today we start our coding journey.\n"
     ]
    }
   ],
   "source": [
    "print(\"Hello, Python learners! Today we start our coding journey.\")\n"
   ]
  },
  {
   "cell_type": "code",
   "execution_count": 3,
   "metadata": {},
   "outputs": [
    {
     "name": "stdout",
     "output_type": "stream",
     "text": [
      "My name is Seif Ashraf.\n",
      "My favorite programming language is Python!\n"
     ]
    }
   ],
   "source": [
    "print(\"\"\"My name is Seif Ashraf.\n",
    "My favorite programming language is Python!\"\"\")\n"
   ]
  },
  {
   "cell_type": "markdown",
   "metadata": {},
   "source": [
    "Section 2: Variables and Data Types \n",
    "1. Create a variable called age and assign it your age. Print a message that says, \"I am \n",
    "[age] years old.\" \n",
    "Challenge: Create three variables of different data types (integer, float, and string). Print \n",
    "each variable with a description of its data type"
   ]
  },
  {
   "cell_type": "code",
   "execution_count": 1,
   "metadata": {},
   "outputs": [
    {
     "name": "stdout",
     "output_type": "stream",
     "text": [
      "I am 22 years old.\n"
     ]
    }
   ],
   "source": [
    "age = 22\n",
    "print(f\"I am {age} years old.\")\n"
   ]
  },
  {
   "cell_type": "code",
   "execution_count": 2,
   "metadata": {},
   "outputs": [
    {
     "name": "stdout",
     "output_type": "stream",
     "text": [
      "Integer: 25 (type: <class 'int'>)\n",
      "Float: 3.14 (type: <class 'float'>)\n",
      "String: Python (type: <class 'str'>)\n"
     ]
    }
   ],
   "source": [
    "integer_var = 25\n",
    "float_var = 3.14\n",
    "string_var = \"Python\"\n",
    "print(f\"Integer: {integer_var} (type: {type(integer_var)})\")\n",
    "print(f\"Float: {float_var} (type: {type(float_var)})\")\n",
    "print(f\"String: {string_var} (type: {type(string_var)})\")\n"
   ]
  },
  {
   "cell_type": "markdown",
   "metadata": {},
   "source": [
    "Section 3: Working with Strings \n",
    "1. Given the string text = \"Python is amazing\", write a program to extract and print the \n",
    "word \"amazing\" from it. \n",
    "Challenge: Concatenate two strings, first_name and last_name, with a space in between, and \n",
    "print the full name in uppercase."
   ]
  },
  {
   "cell_type": "code",
   "execution_count": 3,
   "metadata": {},
   "outputs": [
    {
     "name": "stdout",
     "output_type": "stream",
     "text": [
      "amazing\n"
     ]
    }
   ],
   "source": [
    "text = \"Python is amazing\"\n",
    "print(text[10:17])  # Using slicing to extract \"amazing\"\n"
   ]
  },
  {
   "cell_type": "code",
   "execution_count": 4,
   "metadata": {},
   "outputs": [
    {
     "name": "stdout",
     "output_type": "stream",
     "text": [
      "SEIF ASHRAF\n"
     ]
    }
   ],
   "source": [
    "first_name = \"Seif\"\n",
    "last_name = \"Ashraf\"\n",
    "full_name = f\"{first_name} {last_name}\"\n",
    "print(full_name.upper())\n"
   ]
  },
  {
   "cell_type": "markdown",
   "metadata": {},
   "source": [
    "Section 4: Basic Operations \n",
    "1. Write a program to calculate the area of a rectangle with a width of 5 and a height of 10 \n",
    "Challenge: Create two numbers, a = 20 and b = 7, and print the result of each arithmetic \n",
    "operation: addition, subtraction, multiplication, division, and modulo. "
   ]
  },
  {
   "cell_type": "code",
   "execution_count": 5,
   "metadata": {},
   "outputs": [
    {
     "name": "stdout",
     "output_type": "stream",
     "text": [
      "The area of the rectangle is 50.\n"
     ]
    }
   ],
   "source": [
    "width = 5\n",
    "height = 10\n",
    "area = width * height\n",
    "print(f\"The area of the rectangle is {area}.\")\n"
   ]
  },
  {
   "cell_type": "code",
   "execution_count": 6,
   "metadata": {},
   "outputs": [
    {
     "name": "stdout",
     "output_type": "stream",
     "text": [
      "Addition: 27\n",
      "Subtraction: 13\n",
      "Multiplication: 140\n",
      "Division: 2.857142857142857\n",
      "Modulo: 6\n"
     ]
    }
   ],
   "source": [
    "a = 20\n",
    "b = 7\n",
    "print(f\"Addition: {a + b}\")\n",
    "print(f\"Subtraction: {a - b}\")\n",
    "print(f\"Multiplication: {a * b}\")\n",
    "print(f\"Division: {a / b}\")\n",
    "print(f\"Modulo: {a % b}\")\n"
   ]
  },
  {
   "cell_type": "markdown",
   "metadata": {},
   "source": [
    "Section 5: Lists and Tuples \n",
    "1. Create a list of five of your favorite foods. Print the entire list, then print the third \n",
    "item in the list. \n",
    "Challenge: Convert the list into a tuple, and try to change the first item in the tuple. Observe \n",
    "and explain the result. "
   ]
  },
  {
   "cell_type": "code",
   "execution_count": 7,
   "metadata": {},
   "outputs": [
    {
     "name": "stdout",
     "output_type": "stream",
     "text": [
      "['Pizza', 'Sushi', 'Pasta', 'Burgers', 'Ice Cream']\n",
      "Pasta\n"
     ]
    }
   ],
   "source": [
    "favorite_foods = [\"Pizza\", \"Sushi\", \"Pasta\", \"Burgers\", \"Ice Cream\"]\n",
    "print(favorite_foods)\n",
    "print(favorite_foods[2])  # Third item\n"
   ]
  },
  {
   "cell_type": "code",
   "execution_count": 8,
   "metadata": {},
   "outputs": [
    {
     "name": "stdout",
     "output_type": "stream",
     "text": [
      "('Pizza', 'Sushi', 'Pasta', 'Burgers', 'Ice Cream')\n"
     ]
    }
   ],
   "source": [
    "food_tuple = tuple(favorite_foods)\n",
    "print(food_tuple)\n",
    "# Trying to modify the tuple will raise an error\n",
    "# food_tuple[0] = \"Salad\"  # Uncommenting this line will cause a TypeError\n"
   ]
  },
  {
   "cell_type": "markdown",
   "metadata": {},
   "source": [
    "Section 6: String Manipulation and Slicing \n",
    "1. Given the string sentence = \"Learning Python is fun!\", write a program to slice and \n",
    "print the word \"Python\" from it. \n",
    "Challenge: Replace the word \"fun\" with \"awesome\" in the sentence and print the new \n",
    "sentence. \n"
   ]
  },
  {
   "cell_type": "code",
   "execution_count": 9,
   "metadata": {},
   "outputs": [
    {
     "name": "stdout",
     "output_type": "stream",
     "text": [
      "Python\n"
     ]
    }
   ],
   "source": [
    "sentence = \"Learning Python is fun!\"\n",
    "print(sentence[9:15])  # Using slicing to extract \"Python\"\n"
   ]
  },
  {
   "cell_type": "code",
   "execution_count": 10,
   "metadata": {},
   "outputs": [
    {
     "name": "stdout",
     "output_type": "stream",
     "text": [
      "Learning Python is awesome!\n"
     ]
    }
   ],
   "source": [
    "new_sentence = sentence.replace(\"fun\", \"awesome\")\n",
    "print(new_sentence)\n"
   ]
  },
  {
   "cell_type": "markdown",
   "metadata": {},
   "source": [
    "Section 7: Dictionaries \n",
    "1. Create a dictionary called student with the keys name, age, and grade. Assign values \n",
    "to each key and print the dictionary. \n",
    "Challenge: Add a new key city to the dictionary and set it to any city name. Print the \n",
    "updated dictionary. "
   ]
  },
  {
   "cell_type": "code",
   "execution_count": 11,
   "metadata": {},
   "outputs": [
    {
     "name": "stdout",
     "output_type": "stream",
     "text": [
      "{'name': 'Seif', 'age': 22, 'grade': 'A'}\n"
     ]
    }
   ],
   "source": [
    "student = {\"name\": \"Seif\", \"age\": 22, \"grade\": \"A\"}\n",
    "print(student)\n"
   ]
  },
  {
   "cell_type": "code",
   "execution_count": 12,
   "metadata": {},
   "outputs": [
    {
     "name": "stdout",
     "output_type": "stream",
     "text": [
      "{'name': 'Seif', 'age': 22, 'grade': 'A', 'city': 'Cairo'}\n"
     ]
    }
   ],
   "source": [
    "student[\"city\"] = \"Cairo\"\n",
    "print(student)\n"
   ]
  },
  {
   "cell_type": "markdown",
   "metadata": {},
   "source": [
    "Section8: Basic Arithmetic Operations \n",
    "1. Write a program that takes two numbers from the user and prints their sum, \n",
    "difference, product, and division result. \n",
    "Challenge: Use the modulo operator to check if the first number is divisible by the second \n",
    "number, and print the result as \"Divisible\" or \"Not Divisible\". "
   ]
  },
  {
   "cell_type": "code",
   "execution_count": 14,
   "metadata": {},
   "outputs": [
    {
     "name": "stdout",
     "output_type": "stream",
     "text": [
      "Sum: 17\n",
      "Difference: 1\n",
      "Product: 72\n",
      "Division: 1.125\n"
     ]
    }
   ],
   "source": [
    "num1 = int(input(\"Enter the first number: \"))\n",
    "num2 = int(input(\"Enter the second number: \"))\n",
    "print(f\"Sum: {num1 + num2}\")\n",
    "print(f\"Difference: {num1 - num2}\")\n",
    "print(f\"Product: {num1 * num2}\")\n",
    "print(f\"Division: {num1 / num2}\")\n"
   ]
  },
  {
   "cell_type": "code",
   "execution_count": 15,
   "metadata": {},
   "outputs": [
    {
     "name": "stdout",
     "output_type": "stream",
     "text": [
      "Not Divisible\n"
     ]
    }
   ],
   "source": [
    "if num1 % num2 == 0:\n",
    "    print(\"Divisible\")\n",
    "else:\n",
    "    print(\"Not Divisible\")\n"
   ]
  }
 ],
 "metadata": {
  "kernelspec": {
   "display_name": "Python 3",
   "language": "python",
   "name": "python3"
  },
  "language_info": {
   "codemirror_mode": {
    "name": "ipython",
    "version": 3
   },
   "file_extension": ".py",
   "mimetype": "text/x-python",
   "name": "python",
   "nbconvert_exporter": "python",
   "pygments_lexer": "ipython3",
   "version": "3.13.0"
  }
 },
 "nbformat": 4,
 "nbformat_minor": 2
}
