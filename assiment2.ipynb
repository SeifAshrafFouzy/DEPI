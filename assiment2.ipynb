{
 "cells": [
  {
   "cell_type": "markdown",
   "metadata": {},
   "source": [
    "# Python Session 2 - Practical Exam"
   ]
  },
  {
   "cell_type": "markdown",
   "metadata": {},
   "source": [
    "### Part 1: Lists and List Slicing (20 points) \n",
    "1. (10 points) Create a list of 10 integers ranging from 1 to 20. Then, do the following: \n",
    "o Extract and print the first 5 elements of the list. \n",
    "o Extract and print the last 3 elements using negative indexing. \n",
    "o Extract and print all elements from index 3 to index 7. "
   ]
  },
  {
   "cell_type": "code",
   "execution_count": 1,
   "metadata": {},
   "outputs": [
    {
     "name": "stdout",
     "output_type": "stream",
     "text": [
      "[1, 3, 5, 7, 9]\n",
      "[15, 17, 19]\n",
      "[7, 9, 11, 13, 15]\n"
     ]
    }
   ],
   "source": [
    "# Create a list of 10 integers ranging from 1 to 20\n",
    "numbers = [1, 3, 5, 7, 9, 11, 13, 15, 17, 19]\n",
    "\n",
    "# Extract and print the first 5 elements\n",
    "print(numbers[:5])\n",
    "\n",
    "# Extract and print the last 3 elements using negative indexing\n",
    "print(numbers[-3:])\n",
    "\n",
    "# Extract and print all elements from index 3 to index 7\n",
    "print(numbers[3:8])\n"
   ]
  },
  {
   "cell_type": "markdown",
   "metadata": {},
   "source": [
    "2. (10 points) Write a Python program that: \n",
    "o Creates a list of 5 different fruits. \n",
    "o Add two more fruits to the list. \n",
    "o Remove the last fruit in the list. \n",
    "o Print the updated list. "
   ]
  },
  {
   "cell_type": "code",
   "execution_count": 2,
   "metadata": {},
   "outputs": [
    {
     "name": "stdout",
     "output_type": "stream",
     "text": [
      "['Apple', 'Banana', 'Cherry', 'Date', 'Elderberry', 'Fig']\n"
     ]
    }
   ],
   "source": [
    "# Create a list of 5 different fruits\n",
    "fruits = [\"Apple\", \"Banana\", \"Cherry\", \"Date\", \"Elderberry\"]\n",
    "\n",
    "# Add two more fruits to the list\n",
    "fruits.append(\"Fig\")\n",
    "fruits.append(\"Grapes\")\n",
    "\n",
    "# Remove the last fruit in the list\n",
    "fruits.pop()\n",
    "\n",
    "# Print the updated list\n",
    "print(fruits)\n"
   ]
  },
  {
   "cell_type": "markdown",
   "metadata": {},
   "source": [
    "### Part 2: Tuples and Dictionaries (30 points)\n",
    "3. (10 points) \n",
    "o Create a tuple that contains 5 different cities. \n",
    "o Access and print the second city in the tuple. \n",
    "o Try to change the value of the second city in the tuple and explain why it does "
   ]
  },
  {
   "cell_type": "code",
   "execution_count": 3,
   "metadata": {},
   "outputs": [
    {
     "name": "stdout",
     "output_type": "stream",
     "text": [
      "London\n"
     ]
    }
   ],
   "source": [
    "# Create a tuple with 5 different cities\n",
    "cities = (\"Cairo\", \"London\", \"New York\", \"Tokyo\", \"Paris\")\n",
    "\n",
    "# Access and print the second city\n",
    "print(cities[1])\n",
    "\n",
    "# Attempt to change the value of the second city\n",
    "# cities[1] = \"Berlin\"  # Uncommenting this will raise a TypeError\n",
    "# Explanation: Tuples are immutable, so their elements cannot be modified.\n"
   ]
  },
  {
   "cell_type": "markdown",
   "metadata": {},
   "source": [
    "4. (10 points) Write a Python program that creates a dictionary with the following keys and \n",
    "values: \n",
    "o 'name': 'John', 'age': 30, 'city': 'New York'. Then: \n",
    "o Print the value of the 'age' key. \n",
    "o Add a new key-value pair 'job': 'Engineer' to the dictionary. \n",
    "o Remove the 'city' key and print the updated dictionary. "
   ]
  },
  {
   "cell_type": "code",
   "execution_count": 4,
   "metadata": {},
   "outputs": [
    {
     "name": "stdout",
     "output_type": "stream",
     "text": [
      "30\n",
      "{'name': 'John', 'age': 30, 'job': 'Engineer'}\n"
     ]
    }
   ],
   "source": [
    "# Create a dictionary\n",
    "person = {\"name\": \"John\", \"age\": 30, \"city\": \"New York\"}\n",
    "\n",
    "# Print the value of the 'age' key\n",
    "print(person[\"age\"])\n",
    "\n",
    "# Add a new key-value pair\n",
    "person[\"job\"] = \"Engineer\"\n",
    "\n",
    "# Remove the 'city' key\n",
    "del person[\"city\"]\n",
    "\n",
    "# Print the updated dictionary\n",
    "print(person)\n"
   ]
  },
  {
   "cell_type": "markdown",
   "metadata": {},
   "source": [
    "5. (10 points) Write a Python program that: \n",
    "o Creates a dictionary to store the names and ages of 3 people. \n",
    "o Print each person's name and their corresponding age using a loop."
   ]
  },
  {
   "cell_type": "code",
   "execution_count": 5,
   "metadata": {},
   "outputs": [
    {
     "name": "stdout",
     "output_type": "stream",
     "text": [
      "Alice: 25\n",
      "Bob: 30\n",
      "Charlie: 35\n"
     ]
    }
   ],
   "source": [
    "# Create a dictionary to store names and ages\n",
    "people = {\"Alice\": 25, \"Bob\": 30, \"Charlie\": 35}\n",
    "\n",
    "# Print each person's name and age using a loop\n",
    "for name, age in people.items():\n",
    "    print(f\"{name}: {age}\")\n"
   ]
  },
  {
   "cell_type": "markdown",
   "metadata": {},
   "source": [
    "### Part 3: Conditional Statements (30 points) \n",
    "6. (10 points) Write a Python program that takes the user's age as input and prints: \n",
    "o 'Adult' if the age is 18 or older. \n",
    "o 'Minor' if the age is less than 18."
   ]
  },
  {
   "cell_type": "code",
   "execution_count": 6,
   "metadata": {},
   "outputs": [
    {
     "name": "stdout",
     "output_type": "stream",
     "text": [
      "Adult\n"
     ]
    }
   ],
   "source": [
    "age = int(input(\"Enter your age: \"))\n",
    "if age >= 18:\n",
    "    print(\"Adult\")\n",
    "else:\n",
    "    print(\"Minor\")\n"
   ]
  },
  {
   "cell_type": "markdown",
   "metadata": {},
   "source": [
    "7. (10 points) Write a Python program that checks if a number entered by the user is: \n",
    "o 'Even' if it is divisible by 2. \n",
    "o 'Odd' if it is not divisible by 2. \n",
    "You must use an if-else statement for this task. "
   ]
  },
  {
   "cell_type": "code",
   "execution_count": null,
   "metadata": {},
   "outputs": [],
   "source": [
    "number = int(input(\"Enter a number: \"))\n",
    "if number % 2 == 0:\n",
    "    print(\"Even\")\n",
    "else:\n",
    "    print(\"Odd\")\n"
   ]
  },
  {
   "cell_type": "markdown",
   "metadata": {},
   "source": [
    "8. (10 points) Write a Python program that: \n",
    "o Takes a score from the user and prints the grade based on the following criteria: \n",
    "▪ 90 and above: 'A' \n",
    "▪ 70-89: 'B' \n",
    "▪ 50-69: 'C' \n",
    "▪ Below 50: 'F'"
   ]
  },
  {
   "cell_type": "code",
   "execution_count": null,
   "metadata": {},
   "outputs": [],
   "source": [
    "score = int(input(\"Enter your score: \"))\n",
    "if score >= 90:\n",
    "    print(\"A\")\n",
    "elif score >= 70:\n",
    "    print(\"B\")\n",
    "elif score >= 50:\n",
    "    print(\"C\")\n",
    "else:\n",
    "    print(\"F\")\n"
   ]
  },
  {
   "cell_type": "markdown",
   "metadata": {},
   "source": [
    "### Part 4: Loops (30 points) \n",
    "9. (10 points) Write a Python program that uses a for loop to print all even numbers \n",
    "between 1 and 20. "
   ]
  },
  {
   "cell_type": "code",
   "execution_count": 7,
   "metadata": {},
   "outputs": [
    {
     "name": "stdout",
     "output_type": "stream",
     "text": [
      "2\n",
      "4\n",
      "6\n",
      "8\n",
      "10\n",
      "12\n",
      "14\n",
      "16\n",
      "18\n",
      "20\n"
     ]
    }
   ],
   "source": [
    "for num in range(1, 21):\n",
    "    if num % 2 == 0:\n",
    "        print(num)\n"
   ]
  },
  {
   "cell_type": "markdown",
   "metadata": {},
   "source": [
    "10. (10 points) Write a Python program that uses a while loop to print the numbers from 10 \n",
    "to 1, in descending order. "
   ]
  },
  {
   "cell_type": "code",
   "execution_count": 8,
   "metadata": {},
   "outputs": [
    {
     "name": "stdout",
     "output_type": "stream",
     "text": [
      "10\n",
      "9\n",
      "8\n",
      "7\n",
      "6\n",
      "5\n",
      "4\n",
      "3\n",
      "2\n",
      "1\n"
     ]
    }
   ],
   "source": [
    "num = 10\n",
    "while num >= 1:\n",
    "    print(num)\n",
    "    num -= 1\n"
   ]
  },
  {
   "cell_type": "markdown",
   "metadata": {},
   "source": [
    "11. (10 points) Write a Python program that: \n",
    "• Asks the user to input a number. \n",
    "• Then, using a for loop, calculates the sum of all numbers from 1 to the entered number \n",
    "(inclusive) and prints the result."
   ]
  },
  {
   "cell_type": "code",
   "execution_count": 9,
   "metadata": {},
   "outputs": [
    {
     "name": "stdout",
     "output_type": "stream",
     "text": [
      "The sum of numbers from 1 to 10 is 55\n"
     ]
    }
   ],
   "source": [
    "n = int(input(\"Enter a number: \"))\n",
    "total = 0\n",
    "for i in range(1, n + 1):\n",
    "    total += i\n",
    "print(f\"The sum of numbers from 1 to {n} is {total}\")\n"
   ]
  },
  {
   "cell_type": "markdown",
   "metadata": {},
   "source": [
    "### Part 5: Input Function and User Interaction (20 points) \n",
    "12. (10 points) Write a Python program that asks the user for their name and age, then prints \n",
    "a message saying: \"Hello, [name]! You are [age] years old.\" "
   ]
  },
  {
   "cell_type": "code",
   "execution_count": null,
   "metadata": {},
   "outputs": [],
   "source": [
    "name = input(\"Enter your name: \")\n",
    "age = input(\"Enter your age: \")\n",
    "print(f\"Hello, {name}! You are {age} years old.\")\n"
   ]
  },
  {
   "cell_type": "markdown",
   "metadata": {},
   "source": [
    "13. (10 points) Write a Python program that asks the user for their favorite color and checks \n",
    "if it is 'blue'. If it is, print \"You have great taste!\", otherwise print \"That's a \n",
    "nice color too!\" \n"
   ]
  },
  {
   "cell_type": "code",
   "execution_count": null,
   "metadata": {},
   "outputs": [],
   "source": [
    "color = input(\"Enter your favorite color: \").lower()\n",
    "if color == \"blue\":\n",
    "    print(\"You have great taste!\")\n",
    "else:\n",
    "    print(\"That's a nice color too!\")\n"
   ]
  },
  {
   "cell_type": "markdown",
   "metadata": {},
   "source": [
    "### Bonus Question (10 points) \n",
    "14. (10 points) Write a Python program that asks the user to enter a list of 5 numbers. \n",
    "Then: \n",
    "• Calculate and print the average of the numbers. \n",
    "• Print the largest and smallest numbers from the list."
   ]
  },
  {
   "cell_type": "code",
   "execution_count": null,
   "metadata": {},
   "outputs": [],
   "source": [
    "# Ask the user to enter a list of 5 numbers\n",
    "numbers = [int(input(f\"Enter number {i+1}: \")) for i in range(5)]\n",
    "\n",
    "# Calculate and print the average\n",
    "average = sum(numbers) / len(numbers)\n",
    "print(f\"Average: {average}\")\n",
    "\n",
    "# Print the largest and smallest numbers\n",
    "print(f\"Largest: {max(numbers)}\")\n",
    "print(f\"Smallest: {min(numbers)}\")\n"
   ]
  }
 ],
 "metadata": {
  "kernelspec": {
   "display_name": "Python 3",
   "language": "python",
   "name": "python3"
  },
  "language_info": {
   "codemirror_mode": {
    "name": "ipython",
    "version": 3
   },
   "file_extension": ".py",
   "mimetype": "text/x-python",
   "name": "python",
   "nbconvert_exporter": "python",
   "pygments_lexer": "ipython3",
   "version": "3.13.0"
  }
 },
 "nbformat": 4,
 "nbformat_minor": 2
}
